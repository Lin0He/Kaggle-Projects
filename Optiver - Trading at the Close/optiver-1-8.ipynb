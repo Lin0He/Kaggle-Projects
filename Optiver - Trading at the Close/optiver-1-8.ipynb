{
 "cells": [
  {
   "cell_type": "code",
   "execution_count": 1,
   "id": "0668f558",
   "metadata": {
    "_cell_guid": "b1076dfc-b9ad-4769-8c92-a6c4dae69d19",
    "_uuid": "8f2839f25d086af736a60e9eeb907d3b93b6e0e5",
    "execution": {
     "iopub.execute_input": "2023-12-08T23:37:23.586232Z",
     "iopub.status.busy": "2023-12-08T23:37:23.585797Z",
     "iopub.status.idle": "2023-12-08T23:37:29.494623Z",
     "shell.execute_reply": "2023-12-08T23:37:29.493792Z"
    },
    "papermill": {
     "duration": 5.917374,
     "end_time": "2023-12-08T23:37:29.496985",
     "exception": false,
     "start_time": "2023-12-08T23:37:23.579611",
     "status": "completed"
    },
    "tags": []
   },
   "outputs": [
    {
     "name": "stderr",
     "output_type": "stream",
     "text": [
      "/opt/conda/lib/python3.10/site-packages/scipy/__init__.py:146: UserWarning: A NumPy version >=1.16.5 and <1.23.0 is required for this version of SciPy (detected version 1.24.3\n",
      "  warnings.warn(f\"A NumPy version >={np_minversion} and <{np_maxversion}\"\n",
      "/opt/conda/lib/python3.10/site-packages/dask/dataframe/_pyarrow_compat.py:23: UserWarning: You are using pyarrow version 11.0.0 which is known to be insecure. See https://www.cve.org/CVERecord?id=CVE-2023-47248 for further details. Please upgrade to pyarrow>=14.0.1 or install pyarrow-hotfix to patch your current version.\n",
      "  warnings.warn(\n"
     ]
    }
   ],
   "source": [
    "import lightgbm as lgb \n",
    "import xgboost as xgb \n",
    "import catboost as cbt \n",
    "import numpy as np \n",
    "import joblib \n",
    "import pandas as pd \n",
    "import warnings\n",
    "\n",
    "import optuna\n",
    "from sklearn.metrics import mean_absolute_error"
   ]
  },
  {
   "cell_type": "code",
   "execution_count": 2,
   "id": "1bc7eb24",
   "metadata": {
    "execution": {
     "iopub.execute_input": "2023-12-08T23:37:29.506509Z",
     "iopub.status.busy": "2023-12-08T23:37:29.506234Z",
     "iopub.status.idle": "2023-12-08T23:37:29.512147Z",
     "shell.execute_reply": "2023-12-08T23:37:29.511303Z"
    },
    "papermill": {
     "duration": 0.012645,
     "end_time": "2023-12-08T23:37:29.513954",
     "exception": false,
     "start_time": "2023-12-08T23:37:29.501309",
     "status": "completed"
    },
    "tags": []
   },
   "outputs": [],
   "source": [
    "def calculate_rsi(prices, window=14):\n",
    "    # Calculate daily price changes\n",
    "    delta = prices.diff()\n",
    "\n",
    "    # Separate gains and losses\n",
    "    gains = delta.where(delta > 0, 0)\n",
    "    losses = -delta.where(delta < 0, 0)\n",
    "\n",
    "    # Calculate average gains and losses over the specified window\n",
    "    avg_gains = gains.rolling(window=window, min_periods=1).mean()\n",
    "    avg_losses = losses.rolling(window=window, min_periods=1).mean()\n",
    "\n",
    "    # Calculate relative strength (RS) and RSI\n",
    "    rs = avg_gains / avg_losses\n",
    "    rsi = 100 - (100 / (1 + rs))\n",
    "\n",
    "    return rsi"
   ]
  },
  {
   "cell_type": "code",
   "execution_count": 3,
   "id": "0e110fee",
   "metadata": {
    "execution": {
     "iopub.execute_input": "2023-12-08T23:37:29.522742Z",
     "iopub.status.busy": "2023-12-08T23:37:29.522471Z",
     "iopub.status.idle": "2023-12-08T23:37:29.529716Z",
     "shell.execute_reply": "2023-12-08T23:37:29.528925Z"
    },
    "papermill": {
     "duration": 0.013736,
     "end_time": "2023-12-08T23:37:29.531600",
     "exception": false,
     "start_time": "2023-12-08T23:37:29.517864",
     "status": "completed"
    },
    "tags": []
   },
   "outputs": [],
   "source": [
    "def generate_features(df):\n",
    "    features = ['seconds_in_bucket','imbalance_size', 'matched_size', 'bid_size', 'ask_size',\n",
    "                'reference_price','far_price', 'near_price', 'ask_price', 'bid_price', 'wap',\n",
    "                'imb_s1', 'imb_s2', 'imbalance_ratio', 'bid_size_over_ask_size', 'wap_ask_price_imb',\n",
    "                'wap_bid_price_imb', 'wap_reference_price_imb', 'bid_price_reference_price_imb',\n",
    "                'rsi'\n",
    "               ]\n",
    "\n",
    "\n",
    "    df['imb_s1'] = df.eval('(bid_size-ask_size)/(bid_size+ask_size)')\n",
    "    df['imb_s2'] = df.eval('(imbalance_size-matched_size)/(matched_size+imbalance_size)')\n",
    "    df['imbalance_ratio'] = df.eval('imbalance_size/matched_size')\n",
    "    df[\"bid_size_over_ask_size\"] = df.eval('bid_size/ask_size')\n",
    "    df['wap_ask_price_imb']= df.eval('(wap-ask_price)/(wap+ask_price)')\n",
    "    df['wap_bid_price_imb']= df.eval('(wap-bid_price)/(wap+bid_price)')\n",
    "    df['wap_reference_price_imb']=df.eval('(wap-reference_price)/(wap+reference_price)')\n",
    "    df['bid_price_reference_price_imb']=df.eval('(bid_price-reference_price)/(bid_price+reference_price)')\n",
    "    \n",
    "    # Calculate RSI for each stock    TODO::: checke the index of rsi, macd\n",
    "    df['rsi'] = df.groupby('stock_id')['wap'].apply(calculate_rsi).reset_index(level=0, drop=True)\n",
    "    \n",
    "    return df[features]"
   ]
  },
  {
   "cell_type": "code",
   "execution_count": 4,
   "id": "ae39d868",
   "metadata": {
    "execution": {
     "iopub.execute_input": "2023-12-08T23:37:29.540087Z",
     "iopub.status.busy": "2023-12-08T23:37:29.539826Z",
     "iopub.status.idle": "2023-12-08T23:37:48.150672Z",
     "shell.execute_reply": "2023-12-08T23:37:48.149875Z"
    },
    "papermill": {
     "duration": 18.617699,
     "end_time": "2023-12-08T23:37:48.153030",
     "exception": false,
     "start_time": "2023-12-08T23:37:29.535331",
     "status": "completed"
    },
    "tags": []
   },
   "outputs": [],
   "source": [
    "df_orig = pd.read_csv('/kaggle/input/optiver-trading-at-the-close/train.csv')\n",
    "df_orig.fillna(0, inplace = True)"
   ]
  },
  {
   "cell_type": "code",
   "execution_count": 5,
   "id": "a84efe40",
   "metadata": {
    "execution": {
     "iopub.execute_input": "2023-12-08T23:37:48.162221Z",
     "iopub.status.busy": "2023-12-08T23:37:48.161926Z",
     "iopub.status.idle": "2023-12-08T23:37:48.165701Z",
     "shell.execute_reply": "2023-12-08T23:37:48.164840Z"
    },
    "papermill": {
     "duration": 0.01041,
     "end_time": "2023-12-08T23:37:48.167599",
     "exception": false,
     "start_time": "2023-12-08T23:37:48.157189",
     "status": "completed"
    },
    "tags": []
   },
   "outputs": [],
   "source": [
    "#X = generate_features(df_orig)\n",
    "#X= X.fillna(0, inplace = True)"
   ]
  },
  {
   "cell_type": "code",
   "execution_count": 6,
   "id": "4bbc6388",
   "metadata": {
    "execution": {
     "iopub.execute_input": "2023-12-08T23:37:48.176477Z",
     "iopub.status.busy": "2023-12-08T23:37:48.176208Z",
     "iopub.status.idle": "2023-12-08T23:37:52.886045Z",
     "shell.execute_reply": "2023-12-08T23:37:52.885235Z"
    },
    "papermill": {
     "duration": 4.716972,
     "end_time": "2023-12-08T23:37:52.888406",
     "exception": false,
     "start_time": "2023-12-08T23:37:48.171434",
     "status": "completed"
    },
    "tags": []
   },
   "outputs": [],
   "source": [
    "X = generate_features(df_orig).values\n",
    "Y = df_orig['target'].values"
   ]
  },
  {
   "cell_type": "code",
   "execution_count": 7,
   "id": "1276531e",
   "metadata": {
    "execution": {
     "iopub.execute_input": "2023-12-08T23:37:52.897786Z",
     "iopub.status.busy": "2023-12-08T23:37:52.897415Z",
     "iopub.status.idle": "2023-12-08T23:38:51.496149Z",
     "shell.execute_reply": "2023-12-08T23:38:51.495090Z"
    },
    "papermill": {
     "duration": 58.606671,
     "end_time": "2023-12-08T23:38:51.499239",
     "exception": false,
     "start_time": "2023-12-08T23:37:52.892568",
     "status": "completed"
    },
    "tags": []
   },
   "outputs": [
    {
     "data": {
      "text/html": [
       "<style>#sk-container-id-1 {color: black;background-color: white;}#sk-container-id-1 pre{padding: 0;}#sk-container-id-1 div.sk-toggleable {background-color: white;}#sk-container-id-1 label.sk-toggleable__label {cursor: pointer;display: block;width: 100%;margin-bottom: 0;padding: 0.3em;box-sizing: border-box;text-align: center;}#sk-container-id-1 label.sk-toggleable__label-arrow:before {content: \"▸\";float: left;margin-right: 0.25em;color: #696969;}#sk-container-id-1 label.sk-toggleable__label-arrow:hover:before {color: black;}#sk-container-id-1 div.sk-estimator:hover label.sk-toggleable__label-arrow:before {color: black;}#sk-container-id-1 div.sk-toggleable__content {max-height: 0;max-width: 0;overflow: hidden;text-align: left;background-color: #f0f8ff;}#sk-container-id-1 div.sk-toggleable__content pre {margin: 0.2em;color: black;border-radius: 0.25em;background-color: #f0f8ff;}#sk-container-id-1 input.sk-toggleable__control:checked~div.sk-toggleable__content {max-height: 200px;max-width: 100%;overflow: auto;}#sk-container-id-1 input.sk-toggleable__control:checked~label.sk-toggleable__label-arrow:before {content: \"▾\";}#sk-container-id-1 div.sk-estimator input.sk-toggleable__control:checked~label.sk-toggleable__label {background-color: #d4ebff;}#sk-container-id-1 div.sk-label input.sk-toggleable__control:checked~label.sk-toggleable__label {background-color: #d4ebff;}#sk-container-id-1 input.sk-hidden--visually {border: 0;clip: rect(1px 1px 1px 1px);clip: rect(1px, 1px, 1px, 1px);height: 1px;margin: -1px;overflow: hidden;padding: 0;position: absolute;width: 1px;}#sk-container-id-1 div.sk-estimator {font-family: monospace;background-color: #f0f8ff;border: 1px dotted black;border-radius: 0.25em;box-sizing: border-box;margin-bottom: 0.5em;}#sk-container-id-1 div.sk-estimator:hover {background-color: #d4ebff;}#sk-container-id-1 div.sk-parallel-item::after {content: \"\";width: 100%;border-bottom: 1px solid gray;flex-grow: 1;}#sk-container-id-1 div.sk-label:hover label.sk-toggleable__label {background-color: #d4ebff;}#sk-container-id-1 div.sk-serial::before {content: \"\";position: absolute;border-left: 1px solid gray;box-sizing: border-box;top: 0;bottom: 0;left: 50%;z-index: 0;}#sk-container-id-1 div.sk-serial {display: flex;flex-direction: column;align-items: center;background-color: white;padding-right: 0.2em;padding-left: 0.2em;position: relative;}#sk-container-id-1 div.sk-item {position: relative;z-index: 1;}#sk-container-id-1 div.sk-parallel {display: flex;align-items: stretch;justify-content: center;background-color: white;position: relative;}#sk-container-id-1 div.sk-item::before, #sk-container-id-1 div.sk-parallel-item::before {content: \"\";position: absolute;border-left: 1px solid gray;box-sizing: border-box;top: 0;bottom: 0;left: 50%;z-index: -1;}#sk-container-id-1 div.sk-parallel-item {display: flex;flex-direction: column;z-index: 1;position: relative;background-color: white;}#sk-container-id-1 div.sk-parallel-item:first-child::after {align-self: flex-end;width: 50%;}#sk-container-id-1 div.sk-parallel-item:last-child::after {align-self: flex-start;width: 50%;}#sk-container-id-1 div.sk-parallel-item:only-child::after {width: 0;}#sk-container-id-1 div.sk-dashed-wrapped {border: 1px dashed gray;margin: 0 0.4em 0.5em 0.4em;box-sizing: border-box;padding-bottom: 0.4em;background-color: white;}#sk-container-id-1 div.sk-label label {font-family: monospace;font-weight: bold;display: inline-block;line-height: 1.2em;}#sk-container-id-1 div.sk-label-container {text-align: center;}#sk-container-id-1 div.sk-container {/* jupyter's `normalize.less` sets `[hidden] { display: none; }` but bootstrap.min.css set `[hidden] { display: none !important; }` so we also need the `!important` here to be able to override the default hidden behavior on the sphinx rendered scikit-learn.org. See: https://github.com/scikit-learn/scikit-learn/issues/21755 */display: inline-block !important;position: relative;}#sk-container-id-1 div.sk-text-repr-fallback {display: none;}</style><div id=\"sk-container-id-1\" class=\"sk-top-container\"><div class=\"sk-text-repr-fallback\"><pre>LGBMRegressor(device=&#x27;gpu&#x27;, max_depth=7, metric=&#x27;mae&#x27;, n_estimators=895,\n",
       "              num_leaves=25, objective=&#x27;regression&#x27;)</pre><b>In a Jupyter environment, please rerun this cell to show the HTML representation or trust the notebook. <br />On GitHub, the HTML representation is unable to render, please try loading this page with nbviewer.org.</b></div><div class=\"sk-container\" hidden><div class=\"sk-item\"><div class=\"sk-estimator sk-toggleable\"><input class=\"sk-toggleable__control sk-hidden--visually\" id=\"sk-estimator-id-1\" type=\"checkbox\" checked><label for=\"sk-estimator-id-1\" class=\"sk-toggleable__label sk-toggleable__label-arrow\">LGBMRegressor</label><div class=\"sk-toggleable__content\"><pre>LGBMRegressor(device=&#x27;gpu&#x27;, max_depth=7, metric=&#x27;mae&#x27;, n_estimators=895,\n",
       "              num_leaves=25, objective=&#x27;regression&#x27;)</pre></div></div></div></div></div>"
      ],
      "text/plain": [
       "LGBMRegressor(device='gpu', max_depth=7, metric='mae', n_estimators=895,\n",
       "              num_leaves=25, objective='regression')"
      ]
     },
     "execution_count": 7,
     "metadata": {},
     "output_type": "execute_result"
    }
   ],
   "source": [
    "params = {\n",
    "    'boosting_type': 'gbdt',\n",
    "    'objective': 'regression',\n",
    "    'metric': 'mae',\n",
    "    'device': 'gpu', \n",
    "    'num_leaves': 25,\n",
    "    'max_depth':7,\n",
    "}\n",
    "\n",
    "model = lgb.LGBMRegressor(**params, n_estimators=895)\n",
    "model.fit(X, Y)"
   ]
  },
  {
   "cell_type": "code",
   "execution_count": 8,
   "id": "5ab8a1d8",
   "metadata": {
    "execution": {
     "iopub.execute_input": "2023-12-08T23:38:51.508384Z",
     "iopub.status.busy": "2023-12-08T23:38:51.508082Z",
     "iopub.status.idle": "2023-12-08T23:38:51.511853Z",
     "shell.execute_reply": "2023-12-08T23:38:51.511118Z"
    },
    "papermill": {
     "duration": 0.010369,
     "end_time": "2023-12-08T23:38:51.513611",
     "exception": false,
     "start_time": "2023-12-08T23:38:51.503242",
     "status": "completed"
    },
    "tags": []
   },
   "outputs": [],
   "source": [
    "#lgb.plot_importance(model, importance_type=\"gain\")"
   ]
  },
  {
   "cell_type": "code",
   "execution_count": 9,
   "id": "344388ea",
   "metadata": {
    "execution": {
     "iopub.execute_input": "2023-12-08T23:38:51.522512Z",
     "iopub.status.busy": "2023-12-08T23:38:51.522238Z",
     "iopub.status.idle": "2023-12-08T23:38:51.543755Z",
     "shell.execute_reply": "2023-12-08T23:38:51.542812Z"
    },
    "papermill": {
     "duration": 0.028274,
     "end_time": "2023-12-08T23:38:51.545786",
     "exception": false,
     "start_time": "2023-12-08T23:38:51.517512",
     "status": "completed"
    },
    "tags": []
   },
   "outputs": [],
   "source": [
    "import optiver2023\n",
    "env = optiver2023.make_env()\n",
    "iter_test = env.iter_test()"
   ]
  },
  {
   "cell_type": "code",
   "execution_count": 10,
   "id": "3db3542c",
   "metadata": {
    "execution": {
     "iopub.execute_input": "2023-12-08T23:38:51.554880Z",
     "iopub.status.busy": "2023-12-08T23:38:51.554613Z",
     "iopub.status.idle": "2023-12-08T23:39:47.958659Z",
     "shell.execute_reply": "2023-12-08T23:39:47.957803Z"
    },
    "papermill": {
     "duration": 56.411372,
     "end_time": "2023-12-08T23:39:47.961135",
     "exception": false,
     "start_time": "2023-12-08T23:38:51.549763",
     "status": "completed"
    },
    "tags": []
   },
   "outputs": [
    {
     "name": "stdout",
     "output_type": "stream",
     "text": [
      "This version of the API is not optimized and should not be used to estimate the runtime of your code on the hidden test set.\n"
     ]
    }
   ],
   "source": [
    "counter = 0\n",
    "for (test, revealed_targets, sample_prediction) in iter_test:\n",
    "    feat = generate_features(test)\n",
    "    sample_prediction['target'] = model.predict(feat)\n",
    "    env.predict(sample_prediction)\n",
    "    counter += 1"
   ]
  },
  {
   "cell_type": "code",
   "execution_count": 11,
   "id": "5a5ec7f8",
   "metadata": {
    "execution": {
     "iopub.execute_input": "2023-12-08T23:39:47.971224Z",
     "iopub.status.busy": "2023-12-08T23:39:47.970893Z",
     "iopub.status.idle": "2023-12-08T23:39:47.986304Z",
     "shell.execute_reply": "2023-12-08T23:39:47.985415Z"
    },
    "papermill": {
     "duration": 0.022534,
     "end_time": "2023-12-08T23:39:47.988352",
     "exception": false,
     "start_time": "2023-12-08T23:39:47.965818",
     "status": "completed"
    },
    "tags": []
   },
   "outputs": [
    {
     "data": {
      "text/html": [
       "<div>\n",
       "<style scoped>\n",
       "    .dataframe tbody tr th:only-of-type {\n",
       "        vertical-align: middle;\n",
       "    }\n",
       "\n",
       "    .dataframe tbody tr th {\n",
       "        vertical-align: top;\n",
       "    }\n",
       "\n",
       "    .dataframe thead th {\n",
       "        text-align: right;\n",
       "    }\n",
       "</style>\n",
       "<table border=\"1\" class=\"dataframe\">\n",
       "  <thead>\n",
       "    <tr style=\"text-align: right;\">\n",
       "      <th></th>\n",
       "      <th>row_id</th>\n",
       "      <th>target</th>\n",
       "    </tr>\n",
       "  </thead>\n",
       "  <tbody>\n",
       "    <tr>\n",
       "      <th>0</th>\n",
       "      <td>480_540_0</td>\n",
       "      <td>-1.324023</td>\n",
       "    </tr>\n",
       "    <tr>\n",
       "      <th>1</th>\n",
       "      <td>480_540_1</td>\n",
       "      <td>-0.551237</td>\n",
       "    </tr>\n",
       "    <tr>\n",
       "      <th>2</th>\n",
       "      <td>480_540_2</td>\n",
       "      <td>0.767845</td>\n",
       "    </tr>\n",
       "    <tr>\n",
       "      <th>3</th>\n",
       "      <td>480_540_3</td>\n",
       "      <td>-1.433244</td>\n",
       "    </tr>\n",
       "    <tr>\n",
       "      <th>4</th>\n",
       "      <td>480_540_4</td>\n",
       "      <td>-0.859411</td>\n",
       "    </tr>\n",
       "    <tr>\n",
       "      <th>...</th>\n",
       "      <td>...</td>\n",
       "      <td>...</td>\n",
       "    </tr>\n",
       "    <tr>\n",
       "      <th>195</th>\n",
       "      <td>480_540_195</td>\n",
       "      <td>-1.815581</td>\n",
       "    </tr>\n",
       "    <tr>\n",
       "      <th>196</th>\n",
       "      <td>480_540_196</td>\n",
       "      <td>-1.175608</td>\n",
       "    </tr>\n",
       "    <tr>\n",
       "      <th>197</th>\n",
       "      <td>480_540_197</td>\n",
       "      <td>-0.299041</td>\n",
       "    </tr>\n",
       "    <tr>\n",
       "      <th>198</th>\n",
       "      <td>480_540_198</td>\n",
       "      <td>1.226490</td>\n",
       "    </tr>\n",
       "    <tr>\n",
       "      <th>199</th>\n",
       "      <td>480_540_199</td>\n",
       "      <td>-2.503911</td>\n",
       "    </tr>\n",
       "  </tbody>\n",
       "</table>\n",
       "<p>200 rows × 2 columns</p>\n",
       "</div>"
      ],
      "text/plain": [
       "          row_id    target\n",
       "0      480_540_0 -1.324023\n",
       "1      480_540_1 -0.551237\n",
       "2      480_540_2  0.767845\n",
       "3      480_540_3 -1.433244\n",
       "4      480_540_4 -0.859411\n",
       "..           ...       ...\n",
       "195  480_540_195 -1.815581\n",
       "196  480_540_196 -1.175608\n",
       "197  480_540_197 -0.299041\n",
       "198  480_540_198  1.226490\n",
       "199  480_540_199 -2.503911\n",
       "\n",
       "[200 rows x 2 columns]"
      ]
     },
     "execution_count": 11,
     "metadata": {},
     "output_type": "execute_result"
    }
   ],
   "source": [
    "sample_prediction"
   ]
  }
 ],
 "metadata": {
  "kaggle": {
   "accelerator": "nvidiaTeslaT4",
   "dataSources": [
    {
     "databundleVersionId": 7056235,
     "sourceId": 57891,
     "sourceType": "competition"
    }
   ],
   "dockerImageVersionId": 30588,
   "isGpuEnabled": true,
   "isInternetEnabled": false,
   "language": "python",
   "sourceType": "notebook"
  },
  "kernelspec": {
   "display_name": "Python 3",
   "language": "python",
   "name": "python3"
  },
  "language_info": {
   "codemirror_mode": {
    "name": "ipython",
    "version": 3
   },
   "file_extension": ".py",
   "mimetype": "text/x-python",
   "name": "python",
   "nbconvert_exporter": "python",
   "pygments_lexer": "ipython3",
   "version": "3.10.12"
  },
  "papermill": {
   "default_parameters": {},
   "duration": 149.359582,
   "end_time": "2023-12-08T23:39:49.313662",
   "environment_variables": {},
   "exception": null,
   "input_path": "__notebook__.ipynb",
   "output_path": "__notebook__.ipynb",
   "parameters": {},
   "start_time": "2023-12-08T23:37:19.954080",
   "version": "2.4.0"
  }
 },
 "nbformat": 4,
 "nbformat_minor": 5
}
